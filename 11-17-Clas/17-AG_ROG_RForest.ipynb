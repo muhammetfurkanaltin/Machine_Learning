{
 "cells": [
  {
   "cell_type": "code",
   "execution_count": 2,
   "metadata": {},
   "outputs": [],
   "source": [
    "import pandas as pd\n",
    "from sklearn.model_selection import train_test_split\n",
    "from sklearn.preprocessing import StandardScaler\n",
    "from sklearn.metrics import confusion_matrix\n",
    "\n",
    "from sklearn.ensemble import RandomForestClassifier"
   ]
  },
  {
   "cell_type": "code",
   "execution_count": 3,
   "metadata": {},
   "outputs": [],
   "source": [
    "data = pd.read_csv('veriler.csv')\n",
    "\n",
    "x = data.iloc[:,1:4].values\n",
    "y = data.iloc[:,4:].values\n",
    "\n",
    "x_train, x_test, y_train, y_test = train_test_split(x,y,test_size=0.33, random_state=0)\n",
    "\n",
    "scaler = StandardScaler()\n",
    "\n",
    "X_train = scaler.fit_transform(x_train)\n",
    "X_test = scaler.transform(x_test)"
   ]
  },
  {
   "cell_type": "code",
   "execution_count": 4,
   "metadata": {},
   "outputs": [
    {
     "data": {
      "text/plain": [
       "array([[1, 0],\n",
       "       [1, 6]])"
      ]
     },
     "execution_count": 4,
     "metadata": {},
     "output_type": "execute_result"
    }
   ],
   "source": [
    "y_train = y_train.ravel() # The .ravel() function converts a multi-dimensional array into a one-dimensional array.\n",
    "y_test = y_test.ravel()\n",
    "\n",
    "rfc = RandomForestClassifier(n_estimators=10, criterion='entropy')\n",
    "rfc.fit(X_train,y_train)\n",
    "\n",
    "y_pred = rfc.predict(X_test)\n",
    "cm = confusion_matrix(y_test,y_pred)\n",
    "cm"
   ]
  },
  {
   "cell_type": "markdown",
   "metadata": {},
   "source": [
    "### ROC - TPR - FPR Values"
   ]
  },
  {
   "cell_type": "code",
   "execution_count": 10,
   "metadata": {},
   "outputs": [
    {
     "name": "stdout",
     "output_type": "stream",
     "text": [
      "['k' 'k' 'k' 'k' 'e' 'k' 'k' 'k']\n",
      "[0. 1. 1.]\n",
      "[0.         0.14285714 1.        ]\n",
      "[[0.5 0.5]\n",
      " [0.3 0.7]\n",
      " [0.3 0.7]\n",
      " [0.3 0.7]\n",
      " [0.5 0.5]\n",
      " [0.3 0.7]\n",
      " [0.3 0.7]\n",
      " [0.3 0.7]]\n"
     ]
    }
   ],
   "source": [
    "from sklearn import metrics\n",
    "\n",
    "y_proba = rfc.predict_proba(X_test)\n",
    "fpr , tpr , thold = metrics.roc_curve(y_test, y_proba[:,0], pos_label='e')\n",
    "\n",
    "print(y_test)\n",
    "print(tpr)\n",
    "print(fpr)\n",
    "print(y_proba)"
   ]
  }
 ],
 "metadata": {
  "kernelspec": {
   "display_name": "env",
   "language": "python",
   "name": "python3"
  },
  "language_info": {
   "codemirror_mode": {
    "name": "ipython",
    "version": 3
   },
   "file_extension": ".py",
   "mimetype": "text/x-python",
   "name": "python",
   "nbconvert_exporter": "python",
   "pygments_lexer": "ipython3",
   "version": "3.11.6"
  }
 },
 "nbformat": 4,
 "nbformat_minor": 2
}
