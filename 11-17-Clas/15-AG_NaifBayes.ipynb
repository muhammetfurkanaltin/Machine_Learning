{
 "cells": [
  {
   "cell_type": "markdown",
   "metadata": {},
   "source": [
    "# Naive Bayes, \n",
    " dengesiz veri setlerinde de iyi sonuçlar verebilen bir sınıflandırma algoritmasıdır.\n",
    "\n",
    "### Gaussian Naive Bayes:\n",
    " Sürekli (sayısal) veriler için kullanılır. Verilerin normal dağılıma sahip olduğunu varsayar. Örneğin, boy uzunluğu, ağırlık gibi veriler için uygundur.\n",
    "\n",
    "### Multinomial Naive Bayes:\n",
    " Ayrık (kategorik) veriler için kullanılır. Kelime sayıları veya özelliklerin tekrar sayıları gibi veriler için uygundur. Metin sınıflandırmada sıkça kullanılır.\n",
    "\n",
    "### Bernoulli Naive Bayes: \n",
    " İkili (binary) veriler için kullanılır. Bir özelliğin varlığı veya yokluğu (evet/hayır, 1/0 gibi) gibi veriler için uygundur. Örneğin, spam e-posta sınıflandırmasında kullanılabilir.\n"
   ]
  },
  {
   "cell_type": "code",
   "execution_count": 5,
   "metadata": {},
   "outputs": [],
   "source": [
    "import pandas as pd\n",
    "from sklearn.model_selection import train_test_split\n",
    "from sklearn.preprocessing import StandardScaler\n",
    "from sklearn.metrics import confusion_matrix\n",
    "\n",
    "from sklearn.naive_bayes import GaussianNB"
   ]
  },
  {
   "cell_type": "code",
   "execution_count": 6,
   "metadata": {},
   "outputs": [],
   "source": [
    "data = pd.read_csv('veriler.csv')\n",
    "\n",
    "x = data.iloc[:,1:4].values\n",
    "y = data.iloc[:,4:].values\n",
    "\n",
    "x_train, x_test, y_train, y_test = train_test_split(x,y,test_size=0.33, random_state=0)\n",
    "\n",
    "scaler = StandardScaler()\n",
    "\n",
    "X_train = scaler.fit_transform(x_train)\n",
    "X_test = scaler.transform(x_test)"
   ]
  },
  {
   "cell_type": "code",
   "execution_count": 9,
   "metadata": {},
   "outputs": [
    {
     "data": {
      "text/plain": [
       "array([[0, 1],\n",
       "       [6, 1]])"
      ]
     },
     "execution_count": 9,
     "metadata": {},
     "output_type": "execute_result"
    }
   ],
   "source": [
    "y_train = y_train.ravel() # The .ravel() function converts a multi-dimensional array into a one-dimensional array.\n",
    "y_test = y_test.ravel()\n",
    "\n",
    "gnb = GaussianNB()\n",
    "gnb.fit(X_train, y_train)\n",
    "y_pred = gnb.predict(X_test)\n",
    "\n",
    "cm = confusion_matrix(y_test, y_pred)\n",
    "cm"
   ]
  },
  {
   "cell_type": "code",
   "execution_count": null,
   "metadata": {},
   "outputs": [],
   "source": []
  }
 ],
 "metadata": {
  "kernelspec": {
   "display_name": "env",
   "language": "python",
   "name": "python3"
  },
  "language_info": {
   "codemirror_mode": {
    "name": "ipython",
    "version": 3
   },
   "file_extension": ".py",
   "mimetype": "text/x-python",
   "name": "python",
   "nbconvert_exporter": "python",
   "pygments_lexer": "ipython3",
   "version": "3.11.6"
  }
 },
 "nbformat": 4,
 "nbformat_minor": 2
}
