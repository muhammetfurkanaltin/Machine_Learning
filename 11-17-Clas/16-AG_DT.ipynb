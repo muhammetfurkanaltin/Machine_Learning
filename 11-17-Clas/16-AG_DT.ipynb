{
 "cells": [
  {
   "cell_type": "markdown",
   "metadata": {},
   "source": [
    "## Karar Ağaçları\n",
    " Karar ağaçları, veriyi özelliklerine göre bölerek sonuca ulaşan basit ve kullanışlı bir sınıflandırma yöntemidir.\n",
    "\n",
    "### İpuçları\n",
    "Ağaç Budama (Pruning): Aşırı uyumu engellemek için ağacın derinliğini sınırlayabilirsiniz.\n",
    "\n",
    "Özellik Seçimi: En önemli özellikleri seçerek performansı artırabilirsiniz.\n",
    "\n",
    "Ensemble Yöntemleri: Birden fazla karar ağacını birleştirerek daha güçlü modeller oluşturabilirsiniz (örneğin, rastgele ormanlar).\n",
    "\n",
    "Karar ağaçları basit ama etkili bir yöntemdir. Aşırı uyum ve dengesiz veri setleri gibi sorunlara dikkat ederek, iyi sonuçlar elde edebilirsiniz.\n"
   ]
  },
  {
   "cell_type": "code",
   "execution_count": 1,
   "metadata": {},
   "outputs": [],
   "source": [
    "import pandas as pd\n",
    "from sklearn.model_selection import train_test_split\n",
    "from sklearn.preprocessing import StandardScaler\n",
    "from sklearn.metrics import confusion_matrix\n",
    "\n",
    "from sklearn.tree import DecisionTreeClassifier"
   ]
  },
  {
   "cell_type": "code",
   "execution_count": null,
   "metadata": {},
   "outputs": [],
   "source": [
    "data = pd.read_csv('veriler.csv')\n",
    "\n",
    "x = data.iloc[:,1:4].values\n",
    "y = data.iloc[:,4:].values\n",
    "\n",
    "x_train, x_test, y_train, y_test = train_test_split(x,y,test_size=0.33, random_state=0)\n",
    "\n",
    "scaler = StandardScaler()\n",
    "\n",
    "X_train = scaler.fit_transform(x_train)\n",
    "X_test = scaler.transform(x_test)\n",
    "\n",
    "y_train = y_train.ravel() # The .ravel() function converts a multi-dimensional array into a one-dimensional array.\n",
    "y_test = y_test.ravel()"
   ]
  },
  {
   "cell_type": "code",
   "execution_count": null,
   "metadata": {},
   "outputs": [
    {
     "data": {
      "text/plain": [
       "array([[1, 0],\n",
       "       [1, 6]])"
      ]
     },
     "execution_count": 6,
     "metadata": {},
     "output_type": "execute_result"
    }
   ],
   "source": [
    "\n",
    "\n",
    "dtc = DecisionTreeClassifier(criterion='entropy')\n",
    "dtc.fit(X_train,y_train)\n",
    "\n",
    "y_pred = dtc.predict(X_test)\n",
    "cm = confusion_matrix(y_test,y_pred)\n",
    "cm"
   ]
  }
 ],
 "metadata": {
  "kernelspec": {
   "display_name": "env",
   "language": "python",
   "name": "python3"
  },
  "language_info": {
   "codemirror_mode": {
    "name": "ipython",
    "version": 3
   },
   "file_extension": ".py",
   "mimetype": "text/x-python",
   "name": "python",
   "nbconvert_exporter": "python",
   "pygments_lexer": "ipython3",
   "version": "3.11.6"
  }
 },
 "nbformat": 4,
 "nbformat_minor": 2
}
